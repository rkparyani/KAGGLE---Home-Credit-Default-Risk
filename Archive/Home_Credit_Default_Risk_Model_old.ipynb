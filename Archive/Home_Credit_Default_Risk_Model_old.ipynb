{
 "cells": [
  {
   "cell_type": "code",
   "execution_count": 1,
   "metadata": {},
   "outputs": [
    {
     "name": "stderr",
     "output_type": "stream",
     "text": [
      "C:\\Users\\errit\\Anaconda3\\lib\\site-packages\\sklearn\\ensemble\\weight_boosting.py:29: DeprecationWarning: numpy.core.umath_tests is an internal NumPy module and should not be imported. It will be removed in a future NumPy release.\n",
      "  from numpy.core.umath_tests import inner1d\n"
     ]
    },
    {
     "ename": "ModuleNotFoundError",
     "evalue": "No module named 'sklearn.experimental'",
     "output_type": "error",
     "traceback": [
      "\u001b[1;31m---------------------------------------------------------------------------\u001b[0m",
      "\u001b[1;31mModuleNotFoundError\u001b[0m                       Traceback (most recent call last)",
      "\u001b[1;32m<ipython-input-1-72cce4481f53>\u001b[0m in \u001b[0;36m<module>\u001b[1;34m()\u001b[0m\n\u001b[0;32m     21\u001b[0m \u001b[1;32mfrom\u001b[0m \u001b[0msklearn\u001b[0m \u001b[1;32mimport\u001b[0m \u001b[0mtree\u001b[0m\u001b[1;33m\u001b[0m\u001b[0m\n\u001b[0;32m     22\u001b[0m \u001b[1;33m\u001b[0m\u001b[0m\n\u001b[1;32m---> 23\u001b[1;33m \u001b[1;32mfrom\u001b[0m \u001b[0msklearn\u001b[0m\u001b[1;33m.\u001b[0m\u001b[0mexperimental\u001b[0m \u001b[1;32mimport\u001b[0m \u001b[0menable_iterative_imputer\u001b[0m\u001b[1;33m\u001b[0m\u001b[0m\n\u001b[0m\u001b[0;32m     24\u001b[0m \u001b[1;31m#from sklearn.impute import IterativeImputer\u001b[0m\u001b[1;33m\u001b[0m\u001b[1;33m\u001b[0m\u001b[0m\n",
      "\u001b[1;31mModuleNotFoundError\u001b[0m: No module named 'sklearn.experimental'"
     ]
    }
   ],
   "source": [
    "import os\n",
    "import numpy as np # linear algebra\n",
    "import pandas as pd # data processing, CSV file I/O (e.g. pd.read_csv)\n",
    "%matplotlib inline\n",
    "import matplotlib.pyplot as plt  # Matlab-style plotting\n",
    "import seaborn as sns\n",
    "import warnings\n",
    "from scipy import stats\n",
    "from scipy.stats import norm, skew #for some statistics\n",
    "pd.set_option('display.float_format', lambda x: '{:.3f}'.format(x)) #Limiting floats output to 3 decimal points\n",
    "\n",
    "# for ML Modelling\n",
    "from sklearn.linear_model import ElasticNet, Lasso,  BayesianRidge, LassoLarsIC, LogisticRegression, LogisticRegressionCV\n",
    "from sklearn.ensemble import RandomForestRegressor,  GradientBoostingRegressor, BaggingClassifier, AdaBoostClassifier, GradientBoostingClassifier, RandomForestClassifier\n",
    "from sklearn.kernel_ridge import KernelRidge\n",
    "from sklearn.pipeline import make_pipeline\n",
    "from sklearn.preprocessing import RobustScaler\n",
    "from sklearn.base import BaseEstimator, TransformerMixin, RegressorMixin, clone\n",
    "from sklearn.model_selection import KFold, cross_val_score, train_test_split\n",
    "from sklearn.metrics import mean_squared_error,confusion_matrix, accuracy_score, roc_curve, roc_auc_score\n",
    "from sklearn import tree\n",
    "\n",
    "from sklearn.experimental import enable_iterative_imputer\n",
    "#from sklearn.impute import IterativeImputer"
   ]
  },
  {
   "cell_type": "code",
   "execution_count": null,
   "metadata": {},
   "outputs": [],
   "source": [
    "###################  ROUTINE ####################### \n",
    "\n",
    "# Variables \n",
    "wd = \"F:\\Work Folder\\Ritesh\\ML\\KAGGLE-CASESTUDY\\KAGGLE-RISK-CS\"\n",
    "train_dataset = \"application_train.csv\"\n",
    "# Set working directory\n",
    "os.chdir(wd)\n",
    "\n",
    "# Import Libraries\n",
    "import FunctionLib as f\n",
    "\n",
    "# Import working dataset\n",
    "train_df = pd.read_csv(train_dataset)\n",
    "\n",
    "# Summarize data infor from dataset    \n",
    "#f.dataframeinfo(train_df)\n",
    "\n",
    "# Seperate the target from working dataset\n",
    "#target = train_df.TARGET\n",
    "#x_df = train_df.drop(train_df[['TARGET']],axis=1)\n",
    "\n",
    "# Create a new dataset same as train data\n",
    "x_df = train_df.sample(frac=0.1, random_state=1).reset_index(drop=True)"
   ]
  },
  {
   "cell_type": "code",
   "execution_count": null,
   "metadata": {},
   "outputs": [],
   "source": [
    "# Delete the original dataset and work with Sample to free some space for processing.\n",
    "del train_df"
   ]
  },
  {
   "cell_type": "code",
   "execution_count": null,
   "metadata": {},
   "outputs": [],
   "source": [
    "f.get_missing_value_feats(x_df)"
   ]
  },
  {
   "cell_type": "code",
   "execution_count": null,
   "metadata": {},
   "outputs": [],
   "source": [
    "# Seperate the categorical and numerical features\n",
    "num_feats,cat_feats = f.distinct_feats(x_df)\n",
    "print(len(num_feats),len(cat_feats))\n",
    "num_feats.remove('TARGET')"
   ]
  },
  {
   "cell_type": "code",
   "execution_count": null,
   "metadata": {},
   "outputs": [],
   "source": [
    "f.change_type(x_df,num_feats,10)"
   ]
  },
  {
   "cell_type": "code",
   "execution_count": null,
   "metadata": {
    "scrolled": true
   },
   "outputs": [],
   "source": [
    "# Seperate the categorical and numerical features\n",
    "num_feats,cat_feats = f.distinct_feats(x_df)\n",
    "print(len(num_feats),len(cat_feats))\n"
   ]
  },
  {
   "cell_type": "code",
   "execution_count": null,
   "metadata": {},
   "outputs": [],
   "source": [
    "# Identify na values exist and add them to a list\n",
    "missing_value_feats = f.get_missing_value_feats(x_df)"
   ]
  },
  {
   "cell_type": "code",
   "execution_count": null,
   "metadata": {},
   "outputs": [],
   "source": [
    "# Calculate Missing Value percentage and Visualize\n",
    "missing_values_perc_df = f.missing_val_perc(missing_value_feats,x_df)\n",
    "val = missing_values_perc_df[0].sort_values(ascending=False)\n",
    "f.plot_bar(val.index,(50,10),val)"
   ]
  },
  {
   "cell_type": "code",
   "execution_count": null,
   "metadata": {},
   "outputs": [],
   "source": [
    "# How row in dataframe having more than 0% NaN values\n",
    "na_row_cnt = f.get_rowcnt_most_missing_val(imp_df,30)"
   ]
  },
  {
   "cell_type": "code",
   "execution_count": null,
   "metadata": {},
   "outputs": [],
   "source": [
    "# Bulk Evaluation - Get the missing attributes which are strongly correlated with any or all of other attributes\n",
    "missing_value_feats = f.get_missing_value_feats(imp_df)\n",
    "num_missing_values = [x for x in missing_value_feats if x in num_feats]"
   ]
  },
  {
   "cell_type": "code",
   "execution_count": null,
   "metadata": {},
   "outputs": [],
   "source": [
    "# Evaluate whether any of the missing attribute is strongly correlated with any other attribute/feature.\n",
    "non_na_imp = imp_df.dropna()\n",
    "corr_matrix_all = f.corr_feats(non_na_imp, num_missing_values, 0.8)\n",
    "corr_matrix_all_dropna = pd.DataFrame(corr_matrix_all)"
   ]
  },
  {
   "cell_type": "code",
   "execution_count": null,
   "metadata": {},
   "outputs": [],
   "source": [
    "corr_matrix_all_dropna"
   ]
  },
  {
   "cell_type": "code",
   "execution_count": null,
   "metadata": {},
   "outputs": [],
   "source": [
    "# Check direct imputations such as remove the records for attributes which contain less than 5% of null values or remove\n",
    "# attributes which contain more than 65% of null values.\n",
    "imp_df = f.impute_values(x_df,missing_value_feats,65)"
   ]
  },
  {
   "cell_type": "code",
   "execution_count": null,
   "metadata": {},
   "outputs": [],
   "source": [
    "# Analyze the reported NA values before they can be dropped\n",
    "feature = 'AMT_GOODS_PRICE'\n",
    "f.view_na_values(x_df, feature).iloc[:,0:12]\n",
    "\n",
    "# This attribute is highly correlated with AMT_ANNUITY which can be used to derive the null values\n",
    "\n"
   ]
  },
  {
   "cell_type": "code",
   "execution_count": null,
   "metadata": {},
   "outputs": [],
   "source": [
    "imp_df[num_missing_values].isna().sum()"
   ]
  },
  {
   "cell_type": "code",
   "execution_count": null,
   "metadata": {},
   "outputs": [],
   "source": []
  },
  {
   "cell_type": "code",
   "execution_count": null,
   "metadata": {},
   "outputs": [],
   "source": []
  },
  {
   "cell_type": "code",
   "execution_count": null,
   "metadata": {},
   "outputs": [],
   "source": []
  }
 ],
 "metadata": {
  "kernelspec": {
   "display_name": "Python 3",
   "language": "python",
   "name": "python3"
  },
  "language_info": {
   "codemirror_mode": {
    "name": "ipython",
    "version": 3
   },
   "file_extension": ".py",
   "mimetype": "text/x-python",
   "name": "python",
   "nbconvert_exporter": "python",
   "pygments_lexer": "ipython3",
   "version": "3.7.0"
  }
 },
 "nbformat": 4,
 "nbformat_minor": 2
}
